{
  "nbformat": 4,
  "nbformat_minor": 0,
  "metadata": {
    "colab": {
      "provenance": [],
      "gpuType": "T4"
    },
    "kernelspec": {
      "name": "python3",
      "display_name": "Python 3"
    },
    "language_info": {
      "name": "python"
    },
    "accelerator": "GPU"
  },
  "cells": [
    {
      "cell_type": "code",
      "execution_count": 1,
      "metadata": {
        "id": "Ge4s4WE7jbEN"
      },
      "outputs": [],
      "source": [
        "from google.colab import userdata\n",
        "HF_KEY = userdata.get('HF_KEY')"
      ]
    },
    {
      "cell_type": "code",
      "source": [
        "import locale\n",
        "locale.getpreferredencoding = lambda: \"UTF-8\""
      ],
      "metadata": {
        "id": "0gHwCHuyXLyW"
      },
      "execution_count": 2,
      "outputs": []
    },
    {
      "cell_type": "code",
      "source": [
        "!huggingface-cli login --token {HF_KEY}"
      ],
      "metadata": {
        "id": "U9Dnu1oDjiTs"
      },
      "execution_count": null,
      "outputs": []
    },
    {
      "cell_type": "code",
      "source": [
        "!pip install ipywidgets bitsandbytes\n",
        "!pip install accelerate -U\n",
        "!pip install llama-index\n",
        "!pip install llama-index-embeddings-huggingface\n",
        "!pip install llama-index-llms-huggingface"
      ],
      "metadata": {
        "id": "mOcaX5qbHoX_"
      },
      "execution_count": null,
      "outputs": []
    },
    {
      "cell_type": "code",
      "source": [
        "import torch\n",
        "from llama_index.llms.huggingface import HuggingFaceLLM\n",
        "from llama_index.core import PromptTemplate\n",
        "\n",
        "selected_model = \"meta-llama/Llama-2-7b-hf\"\n",
        "\n",
        "SYSTEM_PROMPT = \"\"\"Você é um assistente de IA que responde a perguntas de maneira amigável, com base nos documentos fornecidos. Aqui estão algumas regras que você sempre segue:\n",
        "- Gerar saídas legíveis para humanos, evitando criar texto sem sentido.\n",
        "- Gerar apenas a saída solicitada, sem incluir qualquer outro idioma antes ou depois da saída solicitada.\n",
        "- Nunca agradecer, expressar felicidade em ajudar, mencionar que é um agente de IA, etc. Apenas responda diretamente.\n",
        "- Gerar linguagem profissional geralmente usada em documentos comerciais na América do Norte.\n",
        "- Nunca gerar linguagem ofensiva ou obscena.\n",
        "- Traduza as suas respostas sempre para Português Brasileiro. Nunca responsa nada em inglês.\n",
        "\"\"\"\n",
        "\n",
        "query_wrapper_prompt = PromptTemplate(\n",
        "    \"[INST]<<SYS>>\\n\" + SYSTEM_PROMPT +\"<</SYS>>\\n\\n{query_str}[/INST] \"\n",
        ")\n",
        "\n",
        "\n",
        "llm = HuggingFaceLLM(\n",
        "    context_window=4096,\n",
        "    max_new_tokens=2048,\n",
        "    generate_kwargs={\"temperature\": 0.0, \"do_sample\": False},\n",
        "    query_wrapper_prompt=query_wrapper_prompt,\n",
        "    tokenizer_name=selected_model,\n",
        "    model_name=selected_model,\n",
        "    device_map=\"auto\",\n",
        "    # change these settings below depending on your GPU\n",
        "    # model_kwargs={\"torch_dtype\": torch.float16, \"load_in_8bit\": True},\n",
        ")"
      ],
      "metadata": {
        "id": "iWt80oS7TYX3"
      },
      "execution_count": null,
      "outputs": []
    },
    {
      "cell_type": "code",
      "source": [
        "from llama_index.core import Settings\n",
        "from llama_index.embeddings.huggingface import HuggingFaceEmbedding\n",
        "from llama_index.core import Settings\n",
        "Settings.llm = llm\n",
        "Settings.embed_model = HuggingFaceEmbedding(model_name=\"neuralmind/bert-base-portuguese-cased\")"
      ],
      "metadata": {
        "id": "jVvmijx5LAPe"
      },
      "execution_count": null,
      "outputs": []
    },
    {
      "cell_type": "code",
      "source": [
        "from llama_index.core import VectorStoreIndex\n",
        "import os\n",
        "import shutil\n",
        "import numpy as np\n",
        "from uuid import uuid4\n",
        "from llama_index.core import SimpleDirectoryReader\n",
        "\n",
        "pdf = SimpleDirectoryReader('./data').load_data()\n",
        "\n",
        "index = VectorStoreIndex.from_documents(pdf)"
      ],
      "metadata": {
        "id": "I1F_CL3fNttx"
      },
      "execution_count": 15,
      "outputs": []
    },
    {
      "cell_type": "code",
      "source": [
        "query_engine = index.as_query_engine()"
      ],
      "metadata": {
        "id": "kiP5JUX2SZaZ"
      },
      "execution_count": 16,
      "outputs": []
    },
    {
      "cell_type": "code",
      "source": [
        "import logging\n",
        "import sys\n",
        "\n",
        "logging.basicConfig(stream=sys.stdout, level=logging.INFO)\n",
        "logging.getLogger().addHandler(logging.StreamHandler(stream=sys.stdout))"
      ],
      "metadata": {
        "id": "jyQrZ_amWcjd"
      },
      "execution_count": 17,
      "outputs": []
    },
    {
      "cell_type": "code",
      "source": [
        "from IPython.display import Markdown, display\n",
        "response = query_engine.query(\"Qual o assunto do PDF?\")\n",
        "display(Markdown(f\"<b>{response}</b>\"))"
      ],
      "metadata": {
        "id": "5x7kSpHqXYp3"
      },
      "execution_count": null,
      "outputs": []
    }
  ]
}