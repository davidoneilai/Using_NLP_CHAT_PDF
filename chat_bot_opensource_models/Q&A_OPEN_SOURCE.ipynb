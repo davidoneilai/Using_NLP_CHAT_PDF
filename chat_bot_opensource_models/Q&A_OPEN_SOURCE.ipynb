{
  "cells": [
    {
      "cell_type": "code",
      "execution_count": null,
      "metadata": {
        "id": "Pf9p2v2rkhrI"
      },
      "outputs": [],
      "source": [
        "!pip install langchain\n",
        "!pip install faiss-cpu\n",
        "!pip install huggingface_hub\n",
        "!pip install sentence-transformers\n",
        "!pip install chromadb\n",
        "!pip install langchainhub"
      ]
    },
    {
      "cell_type": "code",
      "execution_count": null,
      "metadata": {
        "id": "9jLZCgIdkn3W"
      },
      "outputs": [],
      "source": [
        "from langchain.document_loaders import PyPDFLoader\n",
        "import textwrap\n",
        "import os\n",
        "\n",
        "\n",
        "os.environ[\"HUGGINGFACEHUB_API_TOKEN\"] = \"HF_KEY\"\n",
        "loader = PyPDFLoader(\"SEU PDF\")\n",
        "pages = loader.load()\n",
        "\n",
        "# text splitting\n",
        "\n",
        "from langchain.text_splitter import CharacterTextSplitter\n",
        "\n",
        "text_splitter = CharacterTextSplitter(chunk_size=500, chunk_overlap=0)\n",
        "docs = text_splitter.split_documents(pages)\n",
        "\n",
        "# embeddings\n",
        "\n",
        "from langchain.embeddings import HuggingFaceEmbeddings\n",
        "embedding = HuggingFaceEmbeddings(model_name=\"neuralmind/bert-base-portuguese-cased\")\n",
        "\n",
        "from langchain_community.vectorstores import Chroma\n",
        "# vectorstore = Chroma.from_documents(documents=docs, embedding=embedding)\n",
        "# retriever = vectorstore.as_retriever(search_type=\"similarity\", search_kwargs={\"k\": 6})\n",
        "\n",
        "# parei aqui... não consegui realizar a criação do DB sem usar o LlamaIndex\n"
      ]
    }
  ],
  "metadata": {
    "accelerator": "GPU",
    "colab": {
      "gpuType": "T4",
      "provenance": []
    },
    "kernelspec": {
      "display_name": "Python 3",
      "name": "python3"
    },
    "language_info": {
      "name": "python"
    }
  },
  "nbformat": 4,
  "nbformat_minor": 0
}
